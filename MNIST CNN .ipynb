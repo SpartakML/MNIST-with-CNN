{
 "cells": [
  {
   "cell_type": "markdown",
   "id": "22cedc6e",
   "metadata": {},
   "source": [
    "# Importing all necessay packages "
   ]
  },
  {
   "cell_type": "code",
   "execution_count": null,
   "id": "e2f6a245",
   "metadata": {},
   "outputs": [],
   "source": [
    "import numpy as np \n",
    "import pandas as pd \n",
    "import matplotlib.pyplot as plt\n",
    "import tensorflow as tf\n",
    "\n",
    "from tensorflow.keras.models import Sequential\n",
    "from tensorflow.keras.layers  import Dense, Dropout, Activation, Flatten, Conv2D, MaxPooling2D, BatchNormalization\n",
    "from tensorflow import keras\n",
    "\n",
    "from keras.preprocessing.image import ImageDataGenerator"
   ]
  },
  {
   "cell_type": "markdown",
   "id": "e9970cbb",
   "metadata": {},
   "source": [
    "# Importing MNIST data"
   ]
  },
  {
   "cell_type": "code",
   "execution_count": 4,
   "id": "bad8285d",
   "metadata": {},
   "outputs": [],
   "source": [
    "test = pd.read_csv('test.csv')\n",
    "train = pd.read_csv('train.csv')"
   ]
  },
  {
   "cell_type": "markdown",
   "id": "60bcea18",
   "metadata": {},
   "source": [
    "# Splitting and reshaping train data "
   ]
  },
  {
   "cell_type": "code",
   "execution_count": 5,
   "id": "0f82bf83",
   "metadata": {},
   "outputs": [],
   "source": [
    "y_train = train[\"label\"]\n",
    "x_train = train.drop(labels = ['label'], axis = 1)\n",
    "x_train = x_train.values.reshape(-1, 28, 28, 1) \n",
    "test = test.values.reshape(-1,28,28,1)"
   ]
  },
  {
   "cell_type": "markdown",
   "id": "5b721cfa",
   "metadata": {},
   "source": [
    "# Plot the first digit of the data "
   ]
  },
  {
   "cell_type": "code",
   "execution_count": 6,
   "id": "c691e791",
   "metadata": {
    "scrolled": true
   },
   "outputs": [
    {
     "data": {
      "image/png": "[encoded data removed]",
      "text/plain": [
       "<Figure size 432x288 with 1 Axes>"
      ]
     },
     "metadata": {
      "needs_background": "light"
     },
     "output_type": "display_data"
    },
    {
     "data": {
      "text/plain": [
       "<matplotlib.image.AxesImage at 0x1eadd252850>"
      ]
     },
     "execution_count": 6,
     "metadata": {},
     "output_type": "execute_result"
    },
    {
     "data": {
      "image/png": "[encoded data removed]",
      "text/plain": [
       "<Figure size 432x288 with 1 Axes>"
      ]
     },
     "metadata": {
      "needs_background": "light"
     },
     "output_type": "display_data"
    }
   ],
   "source": [
    "plt.imshow(x_train[0])\n",
    "plt.show()\n",
    "plt.imshow(x_train[0], cmap = plt.cm.binary)"
   ]
  },
  {
   "cell_type": "markdown",
   "id": "0e99fe8e",
   "metadata": {},
   "source": [
    "# Normalize the data to make CNN faster "
   ]
  },
  {
   "cell_type": "code",
   "execution_count": 7,
   "id": "0b3c7c78",
   "metadata": {},
   "outputs": [],
   "source": [
    "x_train = x_train/255\n",
    "test = test/255"
   ]
  },
  {
   "cell_type": "markdown",
   "id": "27a67de9",
   "metadata": {},
   "source": [
    "# CNN model"
   ]
  },
  {
   "cell_type": "code",
   "execution_count": 69,
   "id": "59e32774",
   "metadata": {},
   "outputs": [],
   "source": [
    "model = Sequential()\n",
    "\n",
    "model.add(Conv2D(64, (3,3), input_shape = x_train.shape[1:])) #convolutional layer \n",
    "model.add(Activation(\"relu\")) #activation relu\n",
    "model.add(BatchNormalization()) #batch normalizing \n",
    "model.add(MaxPooling2D(pool_size = (2,2))) #maxpooling\n",
    "model.add(Dropout(0.25)) #dropout\n",
    "\n",
    "model.add(Conv2D(64, (3,3))) #convolutional layer \n",
    "model.add(Activation(\"relu\")) #activation relu\n",
    "model.add(BatchNormalization()) #batch normalizing \n",
    "model.add(MaxPooling2D(pool_size = (2,2))) #maxpooling\n",
    "model.add(Dropout(0.25)) #dropout\n",
    "\n",
    "\n",
    "model.add(Conv2D(256, (3,3))) #convolutional layer \n",
    "model.add(Activation(\"relu\")) #activation relu\n",
    "model.add(BatchNormalization()) #batch normalizing \n",
    "model.add(MaxPooling2D(pool_size = (2,2))) #maxpooling\n",
    "model.add(Dropout(0.25)) #dropout\n",
    "\n",
    "\n",
    "model.add(Flatten()) #flattening\n",
    "\n",
    "\n",
    "model.add(Dense(64)) #Dense layer\n",
    "model.add(Activation(\"relu\")) #activation relu\n",
    "\n",
    "model.add(Dense(10)) #Dense layer with 10 neurons\n",
    "model.add(Activation(\"softmax\")) #activation softmax \n",
    "\n",
    "\n",
    "model.compile(optimizer = \"adam\", loss = \"sparse_categorical_crossentropy\", metrics = [\"accuracy\"])\n"
   ]
  },
  {
   "cell_type": "code",
   "execution_count": 70,
   "id": "7af9dac2",
   "metadata": {},
   "outputs": [
    {
     "name": "stdout",
     "output_type": "stream",
     "text": [
      "Epoch 1/50\n",
      "1313/1313 [==============================] - 56s 42ms/step - loss: 0.2198 - accuracy: 0.9326\n",
      "Epoch 2/50\n",
      "1313/1313 [==============================] - 55s 42ms/step - loss: 0.0933 - accuracy: 0.9715\n",
      "Epoch 3/50\n",
      "1313/1313 [==============================] - 55s 42ms/step - loss: 0.0733 - accuracy: 0.9774\n",
      "Epoch 4/50\n",
      "1313/1313 [==============================] - 55s 42ms/step - loss: 0.0633 - accuracy: 0.9801\n",
      "Epoch 5/50\n",
      "1313/1313 [==============================] - 55s 42ms/step - loss: 0.0564 - accuracy: 0.9823\n",
      "Epoch 6/50\n",
      "1313/1313 [==============================] - 55s 42ms/step - loss: 0.0530 - accuracy: 0.9818\n",
      "Epoch 7/50\n",
      "1313/1313 [==============================] - 54s 41ms/step - loss: 0.0440 - accuracy: 0.9858\n",
      "Epoch 8/50\n",
      "1313/1313 [==============================] - 54s 41ms/step - loss: 0.0423 - accuracy: 0.9864\n",
      "Epoch 9/50\n",
      "1313/1313 [==============================] - 55s 42ms/step - loss: 0.0383 - accuracy: 0.9876\n",
      "Epoch 10/50\n",
      "1313/1313 [==============================] - 54s 41ms/step - loss: 0.0363 - accuracy: 0.9885\n",
      "Epoch 11/50\n",
      "1313/1313 [==============================] - 56s 42ms/step - loss: 0.0326 - accuracy: 0.9897\n",
      "Epoch 12/50\n",
      "1313/1313 [==============================] - 56s 42ms/step - loss: 0.0315 - accuracy: 0.9899\n",
      "Epoch 13/50\n",
      "1313/1313 [==============================] - 56s 42ms/step - loss: 0.0273 - accuracy: 0.9910\n",
      "Epoch 14/50\n",
      "1313/1313 [==============================] - 56s 43ms/step - loss: 0.0274 - accuracy: 0.9909\n",
      "Epoch 15/50\n",
      "1313/1313 [==============================] - 56s 42ms/step - loss: 0.0272 - accuracy: 0.9915\n",
      "Epoch 16/50\n",
      "1313/1313 [==============================] - 55s 42ms/step - loss: 0.0234 - accuracy: 0.9920\n",
      "Epoch 17/50\n",
      "1313/1313 [==============================] - 55s 42ms/step - loss: 0.0223 - accuracy: 0.9923\n",
      "Epoch 18/50\n",
      "1313/1313 [==============================] - 55s 42ms/step - loss: 0.0236 - accuracy: 0.9926\n",
      "Epoch 19/50\n",
      "1313/1313 [==============================] - 56s 42ms/step - loss: 0.0237 - accuracy: 0.9924\n",
      "Epoch 20/50\n",
      "1313/1313 [==============================] - 56s 43ms/step - loss: 0.0204 - accuracy: 0.9937\n",
      "Epoch 21/50\n",
      "1313/1313 [==============================] - 56s 42ms/step - loss: 0.0202 - accuracy: 0.9934\n",
      "Epoch 22/50\n",
      "1313/1313 [==============================] - 56s 43ms/step - loss: 0.0186 - accuracy: 0.9936\n",
      "Epoch 23/50\n",
      "1313/1313 [==============================] - 56s 43ms/step - loss: 0.0173 - accuracy: 0.9939\n",
      "Epoch 24/50\n",
      "1313/1313 [==============================] - 57s 43ms/step - loss: 0.0204 - accuracy: 0.9935\n",
      "Epoch 25/50\n",
      "1313/1313 [==============================] - 57s 43ms/step - loss: 0.0186 - accuracy: 0.9938\n",
      "Epoch 26/50\n",
      "1313/1313 [==============================] - 57s 43ms/step - loss: 0.0159 - accuracy: 0.9948\n",
      "Epoch 27/50\n",
      "1313/1313 [==============================] - 59s 45ms/step - loss: 0.0168 - accuracy: 0.9943\n",
      "Epoch 28/50\n",
      "1313/1313 [==============================] - 57s 44ms/step - loss: 0.0176 - accuracy: 0.9939\n",
      "Epoch 29/50\n",
      "1313/1313 [==============================] - 60s 45ms/step - loss: 0.0136 - accuracy: 0.9954\n",
      "Epoch 30/50\n",
      "1313/1313 [==============================] - 54s 41ms/step - loss: 0.0151 - accuracy: 0.9950\n",
      "Epoch 31/50\n",
      "1313/1313 [==============================] - 55s 42ms/step - loss: 0.0171 - accuracy: 0.9941\n",
      "Epoch 32/50\n",
      "1313/1313 [==============================] - 54s 41ms/step - loss: 0.0168 - accuracy: 0.9948\n",
      "Epoch 33/50\n",
      "1313/1313 [==============================] - 52s 40ms/step - loss: 0.0141 - accuracy: 0.9949\n",
      "Epoch 34/50\n",
      "1313/1313 [==============================] - 57s 44ms/step - loss: 0.0144 - accuracy: 0.9953\n",
      "Epoch 35/50\n",
      "1313/1313 [==============================] - 58s 44ms/step - loss: 0.0124 - accuracy: 0.9956\n",
      "Epoch 36/50\n",
      "1313/1313 [==============================] - 58s 44ms/step - loss: 0.0135 - accuracy: 0.9954\n",
      "Epoch 37/50\n",
      "1313/1313 [==============================] - 58s 44ms/step - loss: 0.0132 - accuracy: 0.9954\n",
      "Epoch 38/50\n",
      "1313/1313 [==============================] - 57s 44ms/step - loss: 0.0128 - accuracy: 0.9957\n",
      "Epoch 39/50\n",
      "1313/1313 [==============================] - 55s 42ms/step - loss: 0.0129 - accuracy: 0.9957\n",
      "Epoch 40/50\n",
      "1313/1313 [==============================] - 55s 42ms/step - loss: 0.0141 - accuracy: 0.9953\n",
      "Epoch 41/50\n",
      "1313/1313 [==============================] - 55s 42ms/step - loss: 0.0126 - accuracy: 0.9960\n",
      "Epoch 42/50\n",
      "1313/1313 [==============================] - 55s 42ms/step - loss: 0.0105 - accuracy: 0.9960\n",
      "Epoch 43/50\n",
      "1313/1313 [==============================] - 55s 42ms/step - loss: 0.0106 - accuracy: 0.9966\n",
      "Epoch 44/50\n",
      "1313/1313 [==============================] - 55s 42ms/step - loss: 0.0128 - accuracy: 0.9959\n",
      "Epoch 45/50\n",
      "1313/1313 [==============================] - 55s 42ms/step - loss: 0.0123 - accuracy: 0.9958\n",
      "Epoch 46/50\n",
      "1313/1313 [==============================] - 55s 42ms/step - loss: 0.0136 - accuracy: 0.9957\n",
      "Epoch 47/50\n",
      "1313/1313 [==============================] - 56s 42ms/step - loss: 0.0118 - accuracy: 0.9961\n",
      "Epoch 48/50\n",
      "1313/1313 [==============================] - 55s 42ms/step - loss: 0.0118 - accuracy: 0.9960\n",
      "Epoch 49/50\n",
      "1313/1313 [==============================] - 56s 42ms/step - loss: 0.0100 - accuracy: 0.9967\n",
      "Epoch 50/50\n",
      "1313/1313 [==============================] - 55s 42ms/step - loss: 0.0116 - accuracy: 0.9963\n"
     ]
    },
    {
     "data": {
      "text/plain": [
       "<keras.callbacks.History at 0x1ea9ab97400>"
      ]
     },
     "execution_count": 70,
     "metadata": {},
     "output_type": "execute_result"
    }
   ],
   "source": [
    "model.fit(x_train, y_train, epochs = 50)"
   ]
  },
  {
   "cell_type": "code",
   "execution_count": 71,
   "id": "7481aa9c",
   "metadata": {},
   "outputs": [],
   "source": [
    "predictions = model.predict(test)\n",
    "predictions = np.argmax(predictions, axis = 1)\n",
    "predictions = pd.Series(predictions, name = \"Label\")\n",
    "submission = pd.concat([pd.Series(range(1,28001),name = \"ImageId\"), predictions],axis = 1)\n",
    "submission.to_csv(\"cnn_mnist_data\", index = False)"
   ]
  },
  {
   "cell_type": "code",
   "execution_count": null,
   "id": "a6f6611d",
   "metadata": {},
   "outputs": [],
   "source": []
  }
 ],
 "metadata": {
  "kernelspec": {
   "display_name": "Python 3",
   "language": "python",
   "name": "python3"
  },
  "language_info": {
   "codemirror_mode": {
    "name": "ipython",
    "version": 3
   },
   "file_extension": ".py",
   "mimetype": "text/x-python",
   "name": "python",
   "nbconvert_exporter": "python",
   "pygments_lexer": "ipython3",
   "version": "3.8.8"
  }
 },
 "nbformat": 4,
 "nbformat_minor": 5
}
